{
 "cells": [
  {
   "cell_type": "code",
   "execution_count": 4,
   "id": "cd12d435",
   "metadata": {},
   "outputs": [],
   "source": [
    "# In this project you will learn linear regression\n",
    "# load ../../stanford_import.txt\n",
    "import pandas as pd\n",
    "import numpy as np\n",
    "import matplotlib.pyplot as plt\n",
    "\n",
    "from sklearn.linear_model import LinearRegression\n",
    "from mpl_toolkits.mplot3d import axes3d\n",
    "\n",
    "pd.set_option('display.notebook_repr_html', False)\n",
    "pd.set_option('display.max_columns', None)\n",
    "pd.set_option('display.max_rows', 150)\n",
    "pd.set_option('display.max_seq_items', None)\n",
    "\n",
    "# %config InineBackend.figure_formats = {'pdf',}\n",
    "%matplotlib inline\n",
    "\n",
    "import seaborn as sns\n",
    "sns.set_context('notebook')\n",
    "sns.set_style('white')"
   ]
  },
  {
   "cell_type": "code",
   "execution_count": 5,
   "id": "14b9a9c0",
   "metadata": {},
   "outputs": [],
   "source": [
    "# WarmUpExercise\n",
    "def warmUpExercise():\n",
    "    return(np.identity(5))\n"
   ]
  },
  {
   "cell_type": "code",
   "execution_count": null,
   "id": "0f3b0b41",
   "metadata": {},
   "outputs": [],
   "source": [
    "# Linear Regression with one variable\n",
    "data = np.loadtxt('data/ex1data.txt', delimiter=',')\n",
    "x = np.c_[np.ones(data.shape[0], data[:,0])]\n",
    "y = np.c_[data[:,1]]"
   ]
  }
 ],
 "metadata": {
  "kernelspec": {
   "display_name": "Python 3 (ipykernel)",
   "language": "python",
   "name": "python3"
  },
  "language_info": {
   "codemirror_mode": {
    "name": "ipython",
    "version": 3
   },
   "file_extension": ".py",
   "mimetype": "text/x-python",
   "name": "python",
   "nbconvert_exporter": "python",
   "pygments_lexer": "ipython3",
   "version": "3.9.12"
  }
 },
 "nbformat": 4,
 "nbformat_minor": 5
}
