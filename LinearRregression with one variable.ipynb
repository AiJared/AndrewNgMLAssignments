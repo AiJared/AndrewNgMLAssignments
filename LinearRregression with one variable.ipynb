{
 "cells": [
  {
   "cell_type": "markdown",
   "id": "b51928ab",
   "metadata": {},
   "source": [
    "# Linear Regression with One variable\n",
    "\n",
    "## warmUpExcercise\n",
    "\n",
    "## Linear regression with one variable\n",
    "\n",
    "## Gradient Descent\n"
   ]
  },
  {
   "cell_type": "code",
   "execution_count": 4,
   "id": "8e652e9c",
   "metadata": {},
   "outputs": [],
   "source": [
    "# import libraries and load data for our model\n",
    "import pandas as pd\n",
    "import numpy as np\n",
    "import matplotlib.pyplot as plt\n",
    "\n",
    "from sklearn.linear_model import LinearRegression\n",
    "from mpl_toolkits.mplot3d import axes3d # for plotting 3d axes\n",
    "\n",
    "pd.set_option(\"display.notebook_repr_html\", False)\n",
    "pd.set_option(\"display.max_columns\", None)\n",
    "pd.set_option(\"display.max_rows\", 150)\n",
    "pd.set_option(\"display.max_seq_items\", None)\n",
    "\n",
    "# %config InlineBackend.figure_formats = {'pdf',}\n",
    "%matplotlib inline\n",
    "\n",
    "import seaborn as sns\n",
    "sns.set_context('notebook')\n",
    "sns.set_style('white')"
   ]
  },
  {
   "cell_type": "markdown",
   "id": "4be54807",
   "metadata": {},
   "source": [
    "## warmUpExcersice"
   ]
  },
  {
   "cell_type": "code",
   "execution_count": 5,
   "id": "8f7e4e38",
   "metadata": {},
   "outputs": [],
   "source": [
    "def warmUpExercise():\n",
    "    return(np.identity(5))"
   ]
  },
  {
   "cell_type": "code",
   "execution_count": 6,
   "id": "4f4fa5aa",
   "metadata": {},
   "outputs": [
    {
     "data": {
      "text/plain": [
       "array([[1., 0., 0., 0., 0.],\n",
       "       [0., 1., 0., 0., 0.],\n",
       "       [0., 0., 1., 0., 0.],\n",
       "       [0., 0., 0., 1., 0.],\n",
       "       [0., 0., 0., 0., 1.]])"
      ]
     },
     "execution_count": 6,
     "metadata": {},
     "output_type": "execute_result"
    }
   ],
   "source": [
    "warmUpExercise()"
   ]
  },
  {
   "cell_type": "code",
   "execution_count": null,
   "id": "d6655767",
   "metadata": {},
   "outputs": [],
   "source": []
  }
 ],
 "metadata": {
  "kernelspec": {
   "display_name": "Python 3 (ipykernel)",
   "language": "python",
   "name": "python3"
  },
  "language_info": {
   "codemirror_mode": {
    "name": "ipython",
    "version": 3
   },
   "file_extension": ".py",
   "mimetype": "text/x-python",
   "name": "python",
   "nbconvert_exporter": "python",
   "pygments_lexer": "ipython3",
   "version": "3.9.12"
  }
 },
 "nbformat": 4,
 "nbformat_minor": 5
}
