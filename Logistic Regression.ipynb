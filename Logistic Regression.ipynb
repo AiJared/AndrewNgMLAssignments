{
 "cells": [
  {
   "cell_type": "markdown",
   "id": "93c00ddb",
   "metadata": {},
   "source": [
    "# Logistic Regression"
   ]
  },
  {
   "cell_type": "code",
   "execution_count": 1,
   "id": "05da2bf8",
   "metadata": {},
   "outputs": [],
   "source": [
    "# %load ../ ../starndard_import.txt\n",
    "\n",
    "import pandas as pd\n",
    "import numpy as np\n",
    "import matplotlib as mpl\n",
    "import matplotlib.pyplot as plt\n",
    "\n",
    "from scipy.optimize import minimize\n",
    "\n",
    "from sklearn.preprocessing import PolynomialFeatures\n",
    "\n",
    "pd.set_option('display.notebook_repr_html', False)\n",
    "pd.set_option('display.max_columns', None)\n",
    "pd.set_option('display.max_rows', 150)\n",
    "pd.set_option('display.max_seq_items', None)\n",
    "\n",
    "#%config InlineBackend.figure_formats = {'pdf'}\n",
    "%matplotlib inline\n",
    "\n",
    "import seaborn as sns\n",
    "sns.set_context('notebook')\n",
    "sns.set_style('white')"
   ]
  },
  {
   "cell_type": "code",
   "execution_count": 2,
   "id": "bcaa983e",
   "metadata": {},
   "outputs": [],
   "source": [
    "def loaddata(file, delimiter):\n",
    "    data = np.loadtxt(file, delimiter=delimiter)\n",
    "    print(\"Dimensions: \", data.shape)\n",
    "    print(data[1:6,:])\n",
    "    return data"
   ]
  },
  {
   "cell_type": "code",
   "execution_count": 3,
   "id": "55f4a445",
   "metadata": {},
   "outputs": [],
   "source": [
    "def plotData(data, label_x, label_y, label_pos, label_neg, axes=None):\n",
    "    # Get indexes for class 0 and 1\n",
    "    neg = data[:,2] == 0\n",
    "    pos = data[:,2] == 1\n",
    "    \n",
    "    # if no specific axes object has been passed, get the current axes\n",
    "    if axes == None:\n",
    "        axes = plt.gca()\n",
    "    axes.scatter(data[pos][:,0], data[pos][:,1], marker='+', c='k', s=60, linewidth=2, label=label_pos)\n",
    "    axes.scatter(data[neg][:,0], data[neg][:,1], c='y', s=60, label=label_neg)\n",
    "    axes.set_xlabel(label_x)\n",
    "    axes.set_ylabel(label_y)\n",
    "    axes.legend(frameon= True, fancybox = True);\n",
    "    "
   ]
  },
  {
   "cell_type": "markdown",
   "id": "e6b93269",
   "metadata": {},
   "source": [
    "## Logistic regression"
   ]
  },
  {
   "cell_type": "code",
   "execution_count": 4,
   "id": "66206969",
   "metadata": {},
   "outputs": [
    {
     "name": "stdout",
     "output_type": "stream",
     "text": [
      "Dimensions:  (100, 3)\n",
      "[[30.28671077 43.89499752  0.        ]\n",
      " [35.84740877 72.90219803  0.        ]\n",
      " [60.18259939 86.3085521   1.        ]\n",
      " [79.03273605 75.34437644  1.        ]\n",
      " [45.08327748 56.31637178  0.        ]]\n"
     ]
    }
   ],
   "source": [
    "data = loaddata('data/ex2data1.txt', ',')"
   ]
  },
  {
   "cell_type": "code",
   "execution_count": 5,
   "id": "3b9401f8",
   "metadata": {},
   "outputs": [],
   "source": [
    "X = np.c_[np.ones((data.shape[0], 1)), data[:,0:2]]\n",
    "y = np.c_[data[:,2]]"
   ]
  },
  {
   "cell_type": "code",
   "execution_count": 6,
   "id": "4a544f19",
   "metadata": {
    "scrolled": true
   },
   "outputs": [
    {
     "data": {
      "image/png": "[encoded data removed]",
      "text/plain": [
       "<Figure size 432x288 with 1 Axes>"
      ]
     },
     "metadata": {},
     "output_type": "display_data"
    }
   ],
   "source": [
    "plotData(data, \"Exam 1 score\", 'Exam 2 score', 'Admitted', \"Not admitted\")"
   ]
  },
  {
   "cell_type": "markdown",
   "id": "40453620",
   "metadata": {},
   "source": [
    "## Logistic regression hypothesis\n",
    "\n",
    "## ℎ𝜃(𝑥)=𝑔(𝜃𝑇𝑥)\n",
    "¶\n",
    "## 𝑔(𝑧)=1/1+𝑒^−𝑧"
   ]
  },
  {
   "cell_type": "code",
   "execution_count": 7,
   "id": "5155a73b",
   "metadata": {},
   "outputs": [],
   "source": [
    "def sigmoid(z):\n",
    "    return(1/(1+np.exp(-z)))"
   ]
  },
  {
   "cell_type": "markdown",
   "id": "7c858b55",
   "metadata": {},
   "source": [
    "### Scipy has actually a convenience function which does exactly the same"
   ]
  },
  {
   "cell_type": "markdown",
   "id": "1b86a29d",
   "metadata": {},
   "source": [
    "## Cost Function"
   ]
  },
  {
   "cell_type": "code",
   "execution_count": 8,
   "id": "32652649",
   "metadata": {},
   "outputs": [],
   "source": [
    "def costFunction(theta, X, y):\n",
    "    m = y.size\n",
    "    h = sigmoid(X.dot(theta))\n",
    "    \n",
    "    J = -1*(1/m)*(np.log(h).T.dot(y)+np.log(1-h).T.dot(1-y))\n",
    "    \n",
    "    if np.isnan(J[0]):\n",
    "        return(np.inf)\n",
    "    return(J[0])"
   ]
  },
  {
   "cell_type": "code",
   "execution_count": 9,
   "id": "d90d3fba",
   "metadata": {},
   "outputs": [],
   "source": [
    "def gradient(theta, X, y):\n",
    "    m = y.size\n",
    "    h = sigmoid(X.dot(theta.reshape(-1,1)))\n",
    "    \n",
    "    grad = (1/m)*X.T.dot(h-y)\n",
    "    # flatten() converts multi-dimensional arrays into one\n",
    "    # dimensional flatten array or say single dimensional array\n",
    "    return(grad.flatten())"
   ]
  },
  {
   "cell_type": "code",
   "execution_count": 10,
   "id": "426305ad",
   "metadata": {},
   "outputs": [
    {
     "name": "stdout",
     "output_type": "stream",
     "text": [
      "Cost: \n",
      " 0.6931471805599453\n",
      "Grad: \n",
      " [ -0.1        -12.00921659 -11.26284221]\n"
     ]
    }
   ],
   "source": [
    "initial_theta = np.zeros(X.shape[1])\n",
    "cost = costFunction(initial_theta, X, y)\n",
    "grad = gradient(initial_theta, X, y)\n",
    "print('Cost: \\n', cost)\n",
    "print('Grad: \\n', grad)"
   ]
  },
  {
   "cell_type": "markdown",
   "id": "02850bd7",
   "metadata": {},
   "source": [
    "## Optimize Cost function"
   ]
  },
  {
   "cell_type": "code",
   "execution_count": 13,
   "id": "92ce39a9",
   "metadata": {},
   "outputs": [
    {
     "name": "stderr",
     "output_type": "stream",
     "text": [
      "C:\\Users\\ojare\\AppData\\Local\\Temp\\ipykernel_11096\\3515784987.py:5: RuntimeWarning: divide by zero encountered in log\n",
      "  J = -1*(1/m)*(np.log(h).T.dot(y)+np.log(1-h).T.dot(1-y))\n",
      "C:\\Users\\ojare\\AppData\\Local\\Temp\\ipykernel_11096\\3515784987.py:5: RuntimeWarning: divide by zero encountered in log\n",
      "  J = -1*(1/m)*(np.log(h).T.dot(y)+np.log(1-h).T.dot(1-y))\n"
     ]
    },
    {
     "data": {
      "text/plain": [
       "      fun: 0.20349770158950992\n",
       " hess_inv: array([[ 2.85339493e+03, -2.32908823e+01, -2.27416470e+01],\n",
       "       [-2.32908823e+01,  2.04489131e-01,  1.72969525e-01],\n",
       "       [-2.27416470e+01,  1.72969525e-01,  1.96170322e-01]])\n",
       "      jac: array([-2.68557621e-09,  4.36433486e-07, -1.39671757e-06])\n",
       "  message: 'Optimization terminated successfully.'\n",
       "     nfev: 33\n",
       "      nit: 25\n",
       "     njev: 29\n",
       "   status: 0\n",
       "  success: True\n",
       "        x: array([-25.16131634,   0.2062316 ,   0.20147143])"
      ]
     },
     "execution_count": 13,
     "metadata": {},
     "output_type": "execute_result"
    }
   ],
   "source": [
    "res = minimize(costFunction, initial_theta, args=(X,y), method=None, jac=gradient, options={'maxiter': 400})\n",
    "res"
   ]
  },
  {
   "cell_type": "markdown",
   "id": "3d170c88",
   "metadata": {},
   "source": [
    "## Predict"
   ]
  },
  {
   "cell_type": "code",
   "execution_count": 14,
   "id": "7f92e021",
   "metadata": {},
   "outputs": [],
   "source": [
    "def predict(theta, X, threshold=0.5):\n",
    "    p = sigmoid(X.dot(theta.T)) >= threshold\n",
    "    return(p.astype('int'))"
   ]
  },
  {
   "cell_type": "code",
   "execution_count": 15,
   "id": "72d3df75",
   "metadata": {},
   "outputs": [
    {
     "data": {
      "text/plain": [
       "0.7762903249331021"
      ]
     },
     "execution_count": 15,
     "metadata": {},
     "output_type": "execute_result"
    }
   ],
   "source": [
    "# Student with Exam 1 score 45 and Exam 2 score 85\n",
    "# Predict using the optimized Theta values from above(res.x)\n",
    "sigmoid(np.array([1, 45, 85]).dot(res.x.T))"
   ]
  },
  {
   "cell_type": "code",
   "execution_count": 17,
   "id": "51e217e5",
   "metadata": {},
   "outputs": [
    {
     "name": "stdout",
     "output_type": "stream",
     "text": [
      "Train accuracy 89.0%\n"
     ]
    }
   ],
   "source": [
    "p = predict(res.x, X)\n",
    "print('Train accuracy {}%'.format(100*sum(p == y.ravel())/p.size))"
   ]
  },
  {
   "cell_type": "markdown",
   "id": "ea2d4201",
   "metadata": {},
   "source": [
    "## Decision Bundary"
   ]
  },
  {
   "cell_type": "code",
   "execution_count": 19,
   "id": "ddb7677a",
   "metadata": {},
   "outputs": [
    {
     "data": {
      "image/png": "[encoded data removed]",
      "text/plain": [
       "<Figure size 432x288 with 1 Axes>"
      ]
     },
     "metadata": {},
     "output_type": "display_data"
    }
   ],
   "source": [
    "plt.scatter(45, 85, s=60, c='r', marker='v', label='(45, 85)')\n",
    "plotData(data, 'Exam 1 score', 'Exam 2 score', 'Admitted', 'Not Admitted')\n",
    "x1_min, x1_max = X[:,1].min(), X[:,1].max(),\n",
    "x2_min, x2_max = X[:,2].min(), X[:,2].max(),\n",
    "xx1, xx2 = np.meshgrid(np.linspace(x1_min, x1_max), np.linspace(x2_min, x2_max))\n",
    "h = sigmoid(np.c_[np.ones((xx1.ravel().shape[0],1)), xx1.ravel(), xx2.ravel()].dot(res.x))\n",
    "h = h.reshape(xx1.shape)\n",
    "plt.contour(xx1, xx2, h, [0.5], linewidths=1, colors='b');"
   ]
  },
  {
   "cell_type": "markdown",
   "id": "5ea05a70",
   "metadata": {},
   "source": [
    "## Regularized Logistic regression"
   ]
  },
  {
   "cell_type": "code",
   "execution_count": 20,
   "id": "0e63a0e4",
   "metadata": {},
   "outputs": [
    {
     "name": "stdout",
     "output_type": "stream",
     "text": [
      "Dimensions:  (118, 3)\n",
      "[[-0.092742  0.68494   1.      ]\n",
      " [-0.21371   0.69225   1.      ]\n",
      " [-0.375     0.50219   1.      ]\n",
      " [-0.51325   0.46564   1.      ]\n",
      " [-0.52477   0.2098    1.      ]]\n"
     ]
    }
   ],
   "source": [
    "data2 = loaddata('data/ex2data2.txt', ',')"
   ]
  },
  {
   "cell_type": "code",
   "execution_count": 21,
   "id": "e4812563",
   "metadata": {},
   "outputs": [],
   "source": [
    "y = np.c_[data2[:,2]]\n",
    "X = data2[:,0:2]"
   ]
  },
  {
   "cell_type": "code",
   "execution_count": 23,
   "id": "a915a8fe",
   "metadata": {},
   "outputs": [
    {
     "data": {
      "image/png": "[encoded data removed]",
      "text/plain": [
       "<Figure size 432x288 with 1 Axes>"
      ]
     },
     "metadata": {},
     "output_type": "display_data"
    }
   ],
   "source": [
    "plotData(data2, 'MIcrochip Test 1', 'Microship Test 2', 'y =1', 'y = 0')"
   ]
  },
  {
   "cell_type": "markdown",
   "id": "cf2a426f",
   "metadata": {},
   "source": [
    "## Polynomials"
   ]
  },
  {
   "cell_type": "code",
   "execution_count": 27,
   "id": "7fdd0886",
   "metadata": {},
   "outputs": [
    {
     "data": {
      "text/plain": [
       "(118, 28)"
      ]
     },
     "execution_count": 27,
     "metadata": {},
     "output_type": "execute_result"
    }
   ],
   "source": [
    "# Note that this function inserts a column with 'ones' in the design matrix\n",
    "poly = PolynomialFeatures(6)\n",
    "XX = poly.fit_transform(data2[:,0:2])\n",
    "XX.shape"
   ]
  },
  {
   "cell_type": "markdown",
   "id": "79eca4e9",
   "metadata": {},
   "source": [
    "## Regularized Cost Function"
   ]
  },
  {
   "cell_type": "code",
   "execution_count": 31,
   "id": "8166e398",
   "metadata": {},
   "outputs": [],
   "source": [
    "def costFunctionReg(theta, reg, *args):\n",
    "    m = y.size\n",
    "    h = sigmoid(XX.dot(theta))\n",
    "    J = -1*(1/m)*(np.log(h).T.dot(y)+np.log(1-h).T.dot(1-y)) + (reg/(2*m))*np.sum(np.square(theta[1:]))\n",
    "    if np.isnan(J[0]):\n",
    "        return(np.inf)\n",
    "    return(J[0])"
   ]
  },
  {
   "cell_type": "code",
   "execution_count": 36,
   "id": "edb514ce",
   "metadata": {},
   "outputs": [],
   "source": [
    "def gradientReg(theta, reg, *args):\n",
    "    m = y.size\n",
    "    h = sigmoid(XX.dot(theta.reshape(-1,1)))\n",
    "    \n",
    "    grad = (1/m)*XX.T.dot(h-y) + (reg/m)*np.r_[[[0]],theta[1:].reshape(-1,1)]\n",
    "    \n",
    "    return(grad.flatten())"
   ]
  },
  {
   "cell_type": "code",
   "execution_count": 37,
   "id": "31562da7",
   "metadata": {},
   "outputs": [
    {
     "data": {
      "text/plain": [
       "0.6931471805599454"
      ]
     },
     "execution_count": 37,
     "metadata": {},
     "output_type": "execute_result"
    }
   ],
   "source": [
    "initial_theta = np.zeros(XX.shape[1])\n",
    "costFunctionReg(initial_theta,1, XX, y)"
   ]
  },
  {
   "cell_type": "code",
   "execution_count": 40,
   "id": "39ac7f99",
   "metadata": {},
   "outputs": [
    {
     "name": "stderr",
     "output_type": "stream",
     "text": [
      "C:\\Users\\ojare\\AppData\\Local\\Temp\\ipykernel_11096\\4144518951.py:2: RuntimeWarning: overflow encountered in exp\n",
      "  return(1/(1+np.exp(-z)))\n",
      "C:\\Users\\ojare\\AppData\\Local\\Temp\\ipykernel_11096\\2995363040.py:23: UserWarning: No contour levels were found within the data range.\n",
      "  axes.flatten()[i].contour(xx1, xx2, h, [0.5], linewidths=1, colors='g');\n",
      "C:\\Users\\ojare\\AppData\\Local\\Temp\\ipykernel_11096\\4144518951.py:2: RuntimeWarning: overflow encountered in exp\n",
      "  return(1/(1+np.exp(-z)))\n",
      "C:\\Users\\ojare\\AppData\\Local\\Temp\\ipykernel_11096\\2995363040.py:23: UserWarning: No contour levels were found within the data range.\n",
      "  axes.flatten()[i].contour(xx1, xx2, h, [0.5], linewidths=1, colors='g');\n",
      "C:\\Users\\ojare\\AppData\\Local\\Temp\\ipykernel_11096\\4144518951.py:2: RuntimeWarning: overflow encountered in exp\n",
      "  return(1/(1+np.exp(-z)))\n",
      "C:\\Users\\ojare\\AppData\\Local\\Temp\\ipykernel_11096\\2995363040.py:23: UserWarning: No contour levels were found within the data range.\n",
      "  axes.flatten()[i].contour(xx1, xx2, h, [0.5], linewidths=1, colors='g');\n"
     ]
    },
    {
     "data": {
      "image/png": "[encoded data removed]",
      "text/plain": [
       "<Figure size 1224x360 with 3 Axes>"
      ]
     },
     "metadata": {},
     "output_type": "display_data"
    }
   ],
   "source": [
    "fig, axes = plt.subplots(1,3, sharey = True, figsize=(17,5))\n",
    "\n",
    "# Decision boundaries\n",
    "# Lambda = 0 : No regularization --> too flexible, overfitting the training data\n",
    "# Lambda = 1: Looks about right\n",
    "# Lambda = 100: Too much regularization --> high bias\n",
    "\n",
    "for i, C in enumerate([0, 1, 100]):\n",
    "    # Optimize costFunctionReg\n",
    "    res2 = minimize(costFunctionReg, initial_theta, args=(C, XX, y), method=None, jac=gradientReg, options={'maxiter':3000})\n",
    "    \n",
    "    # Accuracy\n",
    "    accuracy = 100*sum(predict(res2.x, XX) == y.ravel())/y.size\n",
    "    \n",
    "    # Scatter plot of X,y\n",
    "    plotData(data2, 'Microchip Test 1', 'Microchip Test 2', 'y = 1', 'y = 0', axes.flatten()[i])\n",
    "    \n",
    "    # plot decisionboundary\n",
    "    x1_min, x1_max = X[:,0].min(), X[:,0].max()\n",
    "    xx1, xx2 = np.meshgrid(np.linspace(x1_min, x1_max), np.linspace(x2_min, x2_max))\n",
    "    h = sigmoid(poly.fit_transform(np.c_[xx1.ravel(), xx2.ravel()]).dot(res2.x))\n",
    "    h = h.reshape(xx1.shape)\n",
    "    axes.flatten()[i].contour(xx1, xx2, h, [0.5], linewidths=1, colors='g');\n",
    "    axes.flatten()[i].set_title('Train accuracy {}% with Lambda = {}'.format(np.round(accuracy, decimals=2), C))"
   ]
  },
  {
   "cell_type": "code",
   "execution_count": null,
   "id": "93a8883e",
   "metadata": {},
   "outputs": [],
   "source": []
  }
 ],
 "metadata": {
  "kernelspec": {
   "display_name": "Python 3 (ipykernel)",
   "language": "python",
   "name": "python3"
  },
  "language_info": {
   "codemirror_mode": {
    "name": "ipython",
    "version": 3
   },
   "file_extension": ".py",
   "mimetype": "text/x-python",
   "name": "python",
   "nbconvert_exporter": "python",
   "pygments_lexer": "ipython3",
   "version": "3.9.12"
  }
 },
 "nbformat": 4,
 "nbformat_minor": 5
}
