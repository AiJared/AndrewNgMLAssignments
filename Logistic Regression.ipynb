{
 "cells": [
  {
   "cell_type": "markdown",
   "id": "93c00ddb",
   "metadata": {},
   "source": [
    "# Logistic Regression"
   ]
  },
  {
   "cell_type": "code",
   "execution_count": 1,
   "id": "05da2bf8",
   "metadata": {},
   "outputs": [],
   "source": [
    "# %load ../ ../starndard_import.txt\n",
    "\n",
    "import pandas as pd\n",
    "import numpy as np\n",
    "import matplotlib as mpl\n",
    "import matplotlib.pyplot as plt\n",
    "\n",
    "from scipy.optimize import minimize\n",
    "\n",
    "from sklearn.preprocessing import PolynomialFeatures\n",
    "\n",
    "pd.set_option('display.notebook_repr_html', False)\n",
    "pd.set_option('display.max_columns', None)\n",
    "pd.set_option('display.max_rows', 150)\n",
    "pd.set_option('display.max_seq_items', None)\n",
    "\n",
    "#%config InlineBackend.figure_formats = {'pdf'}\n",
    "%matplotlib inline\n",
    "\n",
    "import seaborn as sns\n",
    "sns.set_context('notebook')\n",
    "sns.set_style('white')"
   ]
  },
  {
   "cell_type": "code",
   "execution_count": 2,
   "id": "bcaa983e",
   "metadata": {},
   "outputs": [],
   "source": [
    "def loaddata(file, delimiter):\n",
    "    data = np.loadtxt(file, delimiter=delimiter)\n",
    "    print(\"Dimensions: \", data.shape)\n",
    "    print(data[1:6,:])\n",
    "    return data"
   ]
  },
  {
   "cell_type": "code",
   "execution_count": 3,
   "id": "55f4a445",
   "metadata": {},
   "outputs": [],
   "source": [
    "def plotData(data, label_x, label_y, label_pos, label_neg, axes=None):\n",
    "    # Get indexes for class 0 and 1\n",
    "    neg = data[:,2] == 0\n",
    "    pos = data[:,2] == 1\n",
    "    \n",
    "    # if no specific axes object has been passed, get the current axes\n",
    "    if axes == None:\n",
    "        axes = plt.gca()\n",
    "    axes.scatter(data[pos][:,0], data[pos][:,1], marker='+', c='k', s=60, linewidth=2, label=label_pos)\n",
    "    axes.scatter(data[neg][:,0], data[neg][:,1], c='y', s=60, label=label_neg)\n",
    "    axes.set_xlabel(label_x)\n",
    "    axes.set_ylabel(label_y)\n",
    "    axes.legend(frameon= True, fancybox = True);\n",
    "    "
   ]
  },
  {
   "cell_type": "markdown",
   "id": "e6b93269",
   "metadata": {},
   "source": [
    "## Logistic regression"
   ]
  },
  {
   "cell_type": "code",
   "execution_count": 4,
   "id": "66206969",
   "metadata": {},
   "outputs": [
    {
     "name": "stdout",
     "output_type": "stream",
     "text": [
      "Dimensions:  (100, 3)\n",
      "[[30.28671077 43.89499752  0.        ]\n",
      " [35.84740877 72.90219803  0.        ]\n",
      " [60.18259939 86.3085521   1.        ]\n",
      " [79.03273605 75.34437644  1.        ]\n",
      " [45.08327748 56.31637178  0.        ]]\n"
     ]
    }
   ],
   "source": [
    "data = loaddata('data/ex2data1.txt', ',')"
   ]
  },
  {
   "cell_type": "code",
   "execution_count": 5,
   "id": "3b9401f8",
   "metadata": {},
   "outputs": [],
   "source": [
    "X = np.c_[np.ones((data.shape[0], 1)), data[:,0:2]]\n",
    "y = np.c_[data[:,2]]"
   ]
  },
  {
   "cell_type": "code",
   "execution_count": 6,
   "id": "4a544f19",
   "metadata": {
    "scrolled": true
   },
   "outputs": [
    {
     "data": {
      "image/png": "[encoded data removed]",
      "text/plain": [
       "<Figure size 432x288 with 1 Axes>"
      ]
     },
     "metadata": {},
     "output_type": "display_data"
    }
   ],
   "source": [
    "plotData(data, \"Exam 1 score\", 'Exam 2 score', 'Admitted', \"Not admitted\")"
   ]
  },
  {
   "cell_type": "markdown",
   "id": "40453620",
   "metadata": {},
   "source": [
    "## Logistic regression hypothesis\n",
    "\n",
    "## ℎ𝜃(𝑥)=𝑔(𝜃𝑇𝑥)\n",
    "¶\n",
    "## 𝑔(𝑧)=1/1+𝑒^−𝑧"
   ]
  },
  {
   "cell_type": "code",
   "execution_count": 7,
   "id": "5155a73b",
   "metadata": {},
   "outputs": [],
   "source": [
    "def sigmoid(z):\n",
    "    return(1/(1+np.exp(-z)))"
   ]
  },
  {
   "cell_type": "markdown",
   "id": "7c858b55",
   "metadata": {},
   "source": [
    "### Scipy has actually a convenience function which does exactly the same"
   ]
  },
  {
   "cell_type": "markdown",
   "id": "1b86a29d",
   "metadata": {},
   "source": [
    "## Cost Function"
   ]
  },
  {
   "cell_type": "code",
   "execution_count": 8,
   "id": "32652649",
   "metadata": {},
   "outputs": [],
   "source": [
    "def costFunction(theta, X, y):\n",
    "    m = y.size\n",
    "    h = sigmoid(X.dot(theta))\n",
    "    \n",
    "    J = -1*(1/m)*(np.log(h).T.dot(y)+np.log(1-h).T.dot(1-y))\n",
    "    \n",
    "    if np.isnan(J[0]):\n",
    "        return(np.inf)\n",
    "    return(J[0])"
   ]
  },
  {
   "cell_type": "code",
   "execution_count": 9,
   "id": "d90d3fba",
   "metadata": {},
   "outputs": [],
   "source": [
    "def gradient(theta, X, y):\n",
    "    m = y.size\n",
    "    h = sigmoid(X.dot(theta.reshape(-1,1)))\n",
    "    \n",
    "    grad = (1/m)*X.T.dot(h-y)\n",
    "    # flatten() converts multi-dimensional arrays into one\n",
    "    # dimensional flatten array or say single dimensional array\n",
    "    return(grad.flatten())"
   ]
  },
  {
   "cell_type": "code",
   "execution_count": 10,
   "id": "426305ad",
   "metadata": {},
   "outputs": [
    {
     "name": "stdout",
     "output_type": "stream",
     "text": [
      "Cost: \n",
      " 0.6931471805599453\n",
      "Grad: \n",
      " [ -0.1        -12.00921659 -11.26284221]\n"
     ]
    }
   ],
   "source": [
    "initial_theta = np.zeros(X.shape[1])\n",
    "cost = costFunction(initial_theta, X, y)\n",
    "grad = gradient(initial_theta, X, y)\n",
    "print('Cost: \\n', cost)\n",
    "print('Grad: \\n', grad)"
   ]
  },
  {
   "cell_type": "code",
   "execution_count": 12,
   "id": "92ce39a9",
   "metadata": {},
   "outputs": [
    {
     "name": "stderr",
     "output_type": "stream",
     "text": [
      "C:\\Users\\ojare\\AppData\\Local\\Temp\\ipykernel_11096\\3515784987.py:5: RuntimeWarning: divide by zero encountered in log\n",
      "  J = -1*(1/m)*(np.log(h).T.dot(y)+np.log(1-h).T.dot(1-y))\n",
      "C:\\Users\\ojare\\AppData\\Local\\Temp\\ipykernel_11096\\3515784987.py:5: RuntimeWarning: divide by zero encountered in log\n",
      "  J = -1*(1/m)*(np.log(h).T.dot(y)+np.log(1-h).T.dot(1-y))\n"
     ]
    },
    {
     "data": {
      "text/plain": [
       "      fun: 0.20349770158950992\n",
       " hess_inv: array([[ 2.85339493e+03, -2.32908823e+01, -2.27416470e+01],\n",
       "       [-2.32908823e+01,  2.04489131e-01,  1.72969525e-01],\n",
       "       [-2.27416470e+01,  1.72969525e-01,  1.96170322e-01]])\n",
       "      jac: array([-2.68557621e-09,  4.36433486e-07, -1.39671757e-06])\n",
       "  message: 'Optimization terminated successfully.'\n",
       "     nfev: 33\n",
       "      nit: 25\n",
       "     njev: 29\n",
       "   status: 0\n",
       "  success: True\n",
       "        x: array([-25.16131634,   0.2062316 ,   0.20147143])"
      ]
     },
     "execution_count": 12,
     "metadata": {},
     "output_type": "execute_result"
    }
   ],
   "source": [
    "res = minimize(costFunction, initial_theta, args=(X,y), method=None, jac=gradient, options={'maxiter': 400})\n",
    "res"
   ]
  },
  {
   "cell_type": "code",
   "execution_count": null,
   "id": "8b37a2ef",
   "metadata": {},
   "outputs": [],
   "source": []
  }
 ],
 "metadata": {
  "kernelspec": {
   "display_name": "Python 3 (ipykernel)",
   "language": "python",
   "name": "python3"
  },
  "language_info": {
   "codemirror_mode": {
    "name": "ipython",
    "version": 3
   },
   "file_extension": ".py",
   "mimetype": "text/x-python",
   "name": "python",
   "nbconvert_exporter": "python",
   "pygments_lexer": "ipython3",
   "version": "3.9.12"
  }
 },
 "nbformat": 4,
 "nbformat_minor": 5
}
